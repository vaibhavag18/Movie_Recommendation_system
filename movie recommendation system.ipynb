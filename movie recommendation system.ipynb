{
 "cells": [
  {
   "cell_type": "code",
   "execution_count": 1,
   "id": "228ffc3a",
   "metadata": {},
   "outputs": [],
   "source": [
    "import numpy as np\n",
    "import pandas as pd\n",
    "pd.options.mode.chained_assignment = None\n",
    "import difflib\n",
    "from sklearn.feature_extraction.text import TfidfVectorizer\n",
    "from sklearn.metrics.pairwise import cosine_similarity"
   ]
  },
  {
   "cell_type": "code",
   "execution_count": 2,
   "id": "1ef3a86a",
   "metadata": {},
   "outputs": [
    {
     "name": "stdout",
     "output_type": "stream",
     "text": [
      " Enter your favourite movie name : Heat\n"
     ]
    }
   ],
   "source": [
    "movie_name = input(' Enter your favourite movie name : ')\n",
    "movies = pd.read_csv('movies_y.csv')"
   ]
  },
  {
   "cell_type": "code",
   "execution_count": 3,
   "id": "f5e8755e",
   "metadata": {},
   "outputs": [
    {
     "data": {
      "text/html": [
       "<div>\n",
       "<style scoped>\n",
       "    .dataframe tbody tr th:only-of-type {\n",
       "        vertical-align: middle;\n",
       "    }\n",
       "\n",
       "    .dataframe tbody tr th {\n",
       "        vertical-align: top;\n",
       "    }\n",
       "\n",
       "    .dataframe thead th {\n",
       "        text-align: right;\n",
       "    }\n",
       "</style>\n",
       "<table border=\"1\" class=\"dataframe\">\n",
       "  <thead>\n",
       "    <tr style=\"text-align: right;\">\n",
       "      <th></th>\n",
       "      <th>index</th>\n",
       "      <th>genres</th>\n",
       "      <th>id</th>\n",
       "      <th>original_language</th>\n",
       "      <th>title</th>\n",
       "    </tr>\n",
       "  </thead>\n",
       "  <tbody>\n",
       "    <tr>\n",
       "      <th>0</th>\n",
       "      <td>0</td>\n",
       "      <td>Animation Comedy Family</td>\n",
       "      <td>862</td>\n",
       "      <td>en</td>\n",
       "      <td>Toy Story</td>\n",
       "    </tr>\n",
       "    <tr>\n",
       "      <th>1</th>\n",
       "      <td>1</td>\n",
       "      <td>Adventure Fantasy Family</td>\n",
       "      <td>8844</td>\n",
       "      <td>en</td>\n",
       "      <td>Jumanji</td>\n",
       "    </tr>\n",
       "    <tr>\n",
       "      <th>2</th>\n",
       "      <td>2</td>\n",
       "      <td>Romance Comedy</td>\n",
       "      <td>15602</td>\n",
       "      <td>en</td>\n",
       "      <td>Grumpier Old Men</td>\n",
       "    </tr>\n",
       "    <tr>\n",
       "      <th>3</th>\n",
       "      <td>3</td>\n",
       "      <td>Comedy Drama Romance</td>\n",
       "      <td>31357</td>\n",
       "      <td>en</td>\n",
       "      <td>Waiting to Exhale</td>\n",
       "    </tr>\n",
       "    <tr>\n",
       "      <th>4</th>\n",
       "      <td>4</td>\n",
       "      <td>Comedy</td>\n",
       "      <td>11862</td>\n",
       "      <td>en</td>\n",
       "      <td>Father of the Bride Part II</td>\n",
       "    </tr>\n",
       "    <tr>\n",
       "      <th>...</th>\n",
       "      <td>...</td>\n",
       "      <td>...</td>\n",
       "      <td>...</td>\n",
       "      <td>...</td>\n",
       "      <td>...</td>\n",
       "    </tr>\n",
       "    <tr>\n",
       "      <th>5269</th>\n",
       "      <td>5269</td>\n",
       "      <td>Drama</td>\n",
       "      <td>112991</td>\n",
       "      <td>en</td>\n",
       "      <td>The Sleepy Time Gal</td>\n",
       "    </tr>\n",
       "    <tr>\n",
       "      <th>5270</th>\n",
       "      <td>5270</td>\n",
       "      <td>Drama Romance</td>\n",
       "      <td>15677</td>\n",
       "      <td>en</td>\n",
       "      <td>84 Charing Cross Road</td>\n",
       "    </tr>\n",
       "    <tr>\n",
       "      <th>5271</th>\n",
       "      <td>5271</td>\n",
       "      <td>Western</td>\n",
       "      <td>58455</td>\n",
       "      <td>en</td>\n",
       "      <td>Dakota</td>\n",
       "    </tr>\n",
       "    <tr>\n",
       "      <th>5272</th>\n",
       "      <td>5272</td>\n",
       "      <td>Action Adventure Drama</td>\n",
       "      <td>36554</td>\n",
       "      <td>en</td>\n",
       "      <td>The Desert Rats</td>\n",
       "    </tr>\n",
       "    <tr>\n",
       "      <th>5273</th>\n",
       "      <td>5273</td>\n",
       "      <td>Drama Comedy</td>\n",
       "      <td>48216</td>\n",
       "      <td>fr</td>\n",
       "      <td>Seasons Beatings</td>\n",
       "    </tr>\n",
       "  </tbody>\n",
       "</table>\n",
       "<p>5274 rows × 5 columns</p>\n",
       "</div>"
      ],
      "text/plain": [
       "      index                    genres      id original_language  \\\n",
       "0         0   Animation Comedy Family     862                en   \n",
       "1         1  Adventure Fantasy Family    8844                en   \n",
       "2         2            Romance Comedy   15602                en   \n",
       "3         3      Comedy Drama Romance   31357                en   \n",
       "4         4                    Comedy   11862                en   \n",
       "...     ...                       ...     ...               ...   \n",
       "5269   5269                     Drama  112991                en   \n",
       "5270   5270             Drama Romance   15677                en   \n",
       "5271   5271                   Western   58455                en   \n",
       "5272   5272    Action Adventure Drama   36554                en   \n",
       "5273   5273              Drama Comedy   48216                fr   \n",
       "\n",
       "                            title  \n",
       "0                       Toy Story  \n",
       "1                         Jumanji  \n",
       "2                Grumpier Old Men  \n",
       "3               Waiting to Exhale  \n",
       "4     Father of the Bride Part II  \n",
       "...                           ...  \n",
       "5269          The Sleepy Time Gal  \n",
       "5270        84 Charing Cross Road  \n",
       "5271                       Dakota  \n",
       "5272              The Desert Rats  \n",
       "5273             Seasons Beatings  \n",
       "\n",
       "[5274 rows x 5 columns]"
      ]
     },
     "execution_count": 3,
     "metadata": {},
     "output_type": "execute_result"
    }
   ],
   "source": [
    "movies"
   ]
  },
  {
   "cell_type": "code",
   "execution_count": 4,
   "id": "509076a7",
   "metadata": {},
   "outputs": [
    {
     "name": "stdout",
     "output_type": "stream",
     "text": [
      "Heat\n"
     ]
    }
   ],
   "source": [
    "#accounting for potential spelling mistakes made by user\n",
    "list_of_all_titles = movies['title'].tolist()\n",
    "find_close_match = difflib.get_close_matches(movie_name, list_of_all_titles)\n",
    "\n",
    "close_match = find_close_match[0]\n",
    "print(close_match)"
   ]
  },
  {
   "cell_type": "code",
   "execution_count": 5,
   "id": "f00f5300",
   "metadata": {},
   "outputs": [],
   "source": [
    "movies=movies[['index','genres','id','original_language','title']]"
   ]
  },
  {
   "cell_type": "code",
   "execution_count": 6,
   "id": "4c824f86",
   "metadata": {},
   "outputs": [
    {
     "name": "stdout",
     "output_type": "stream",
     "text": [
      "['genres', 'original_language']\n"
     ]
    }
   ],
   "source": [
    "#filtering data based on genres and language\n",
    "selected_features = ['genres','original_language']\n",
    "print(selected_features)\n",
    "for feature in selected_features:\n",
    "  movies[feature] = movies[feature].fillna('')\n",
    "combined_features = movies['genres']+' '+movies['original_language']"
   ]
  },
  {
   "cell_type": "code",
   "execution_count": 7,
   "id": "1193a570",
   "metadata": {},
   "outputs": [],
   "source": [
    "vectorizer = TfidfVectorizer()\n",
    "feature_vectors = vectorizer.fit_transform(combined_features)"
   ]
  },
  {
   "cell_type": "code",
   "execution_count": 8,
   "id": "c7794d77",
   "metadata": {},
   "outputs": [],
   "source": [
    "from sklearn.metrics.pairwise import cosine_similarity"
   ]
  },
  {
   "cell_type": "code",
   "execution_count": 9,
   "id": "ea3bd9cd",
   "metadata": {},
   "outputs": [],
   "source": [
    "similarity = cosine_similarity(feature_vectors)"
   ]
  },
  {
   "cell_type": "code",
   "execution_count": 10,
   "id": "7c9800f6",
   "metadata": {},
   "outputs": [
    {
     "name": "stdout",
     "output_type": "stream",
     "text": [
      "[(1, 0.03971664406686954), (2, 0.07056053684643478), (3, 0.20174312533363892), (4, 0.10460717919112239), (5, 1.0), (6, 0.07056053684643478), (7, 0.37981695846251), (8, 0.5828016490910221), (9, 0.5828016490910221), (10, 0.20174312533363892), (11, 0.059961850571813406), (12, 0.03595942387041873), (13, 0.156077652628876), (14, 0.3861944306929664), (15, 0.6978447823309664), (16, 0.2377301122470376), (17, 0.5304327915034476), (18, 0.40966417977446606), (19, 0.7350271192095644), (20, 0.7138695566771549), (21, 0.6214421473188616), (22, 0.8017528808913268), (23, 0.2944459637465579), (24, 0.2377301122470376), (25, 0.381512937556368), (26, 0.17111436819590853), (27, 0.2377301122470376), (28, 0.0), (29, 0.3205440940594311), (30, 0.6978447823309664), (31, 0.22533424566272997), (32, 0.0), (33, 0.13215966587543806), (34, 0.13884290227686905), (35, 0.381512937556368), (36, 0.11288583496077008), (37, 0.04955378645898679), (38, 0.20174312533363892), (39, 0.381512937556368), (40, 0.15624890974569766), (41, 0.6234585738398802), (42, 0.2377301122470376), (43, 0.3540303157857004), (44, 0.3821512573645204), (45, 0.2377301122470376), (46, 0.5953067341025454), (47, 0.11098989463708953), (48, 0.2377301122470376), (49, 0.8530097075461347), (50, 0.8115200436811992), (51, 0.07056053684643478), (52, 0.07054615450464151), (53, 0.28380527246558457), (54, 0.381512937556368), (55, 0.2139361473595032), (56, 0.20174312533363892), (57, 0.08165154758151286), (58, 0.27595871373558173), (59, 0.03971664406686954), (60, 0.6214421473188616), (61, 0.13333466703602906), (62, 0.10460717919112239), (63, 0.07056053684643478), (64, 0.10460717919112239), (65, 0.29503186448905894), (66, 0.1914696002963004), (67, 0.0), (68, 0.10460717919112239), (69, 0.7921647200641994), (70, 0.6294399404032756), (71, 0.20174312533363892), (72, 0.08091401629225065), (73, 0.2377301122470376), (74, 0.05795085728865355), (75, 0.0404285773656996), (76, 0.05039507271895339), (77, 0.6214421473188616), (78, 0.6214421473188616), (79, 0.06399402891581181), (80, 0.6978447823309664), (81, 0.06734382046748515), (82, 0.2377301122470376), (83, 0.2139361473595032), (84, 0.2377301122470376), (85, 0.646472397210389), (86, 0.04613351026088907), (87, 0.10460717919112239), (88, 0.8530097075461347), (89, 0.381512937556368), (90, 0.3849053838891566), (91, 0.050793631659373964), (92, 0.20174312533363892), (93, 0.6523796478021648), (94, 0.10460717919112239), (95, 0.11179415284688607), (96, 0.4824016931151283), (97, 0.05039507271895339), (98, 0.6214421473188616), (99, 0.6122598961746419)]\n"
     ]
    }
   ],
   "source": [
    "index_of_the_movie = movies[movies.title == close_match]['index'].values[0]\n",
    "#calculating similarity scores of all movies with the given movie\n",
    "similarity_score = list(enumerate(similarity[index_of_the_movie]))\n",
    "print(similarity_score[1:100])\n"
   ]
  },
  {
   "cell_type": "code",
   "execution_count": 11,
   "id": "0a31c0a1",
   "metadata": {},
   "outputs": [
    {
     "name": "stdout",
     "output_type": "stream",
     "text": [
      "[(167, 1.0), (241, 1.0), (255, 1.0), (280, 1.0), (426, 1.0), (477, 1.0), (516, 1.0), (715, 1.0), (967, 1.0), (1569, 1.0), (1677, 1.0), (1725, 1.0), (1726, 1.0), (2221, 1.0), (2366, 1.0), (2377, 1.0), (2611, 1.0), (2641, 1.0), (2654, 1.0), (2697, 1.0), (3138, 1.0), (3246, 1.0), (3307, 1.0), (3310, 1.0), (3312, 1.0), (3314, 1.0), (3639, 1.0), (3772, 1.0), (3821, 1.0), (3876, 1.0), (3913, 1.0), (3957, 1.0), (4074, 1.0), (4135, 1.0), (4234, 1.0), (4479, 1.0), (4646, 1.0), (4759, 1.0), (4777, 1.0), (4804, 1.0), (4817, 1.0), (5047, 1.0), (5065, 1.0), (160, 0.9487974249670676), (474, 0.9487974249670676), (1374, 0.9487974249670676), (1482, 0.9487974249670676), (1556, 0.9487974249670676), (1694, 0.9487974249670676), (1844, 0.9487974249670676), (2626, 0.9487974249670676), (2912, 0.9487974249670676), (3157, 0.9487974249670676), (3217, 0.9487974249670676), (3311, 0.9487974249670676), (3332, 0.9487974249670676), (3560, 0.9487974249670676), (3595, 0.9487974249670676), (3641, 0.9487974249670676), (3774, 0.9487974249670676), (3939, 0.9487974249670676), (4041, 0.9487974249670676), (4097, 0.9487974249670676), (4216, 0.9487974249670676), (4223, 0.9487974249670676), (4241, 0.9487974249670676), (4259, 0.9487974249670676), (4320, 0.9487974249670676), (4370, 0.9487974249670676), (4443, 0.9487974249670676), (4522, 0.9487974249670676), (4725, 0.9487974249670676), (4771, 0.9487974249670676), (4815, 0.9487974249670676), (4827, 0.9487974249670676), (4853, 0.9487974249670676), (1701, 0.9342681950922409), (1719, 0.9342681950922409), (4464, 0.9342681950922409), (4897, 0.9342681950922409), (4919, 0.9342681950922409), (1456, 0.901923557101619), (142, 0.8802502708779398), (1611, 0.8802502708779398), (2160, 0.8802502708779398), (2344, 0.8802502708779398), (4572, 0.8802502708779398), (488, 0.8714136670138997), (702, 0.8714136670138997), (728, 0.8714136670138997), (849, 0.8714136670138997), (969, 0.8714136670138997), (1517, 0.8714136670138997), (1703, 0.8714136670138997), (2195, 0.8714136670138997), (2312, 0.8714136670138997), (3322, 0.8714136670138997), (3767, 0.8714136670138997), (3926, 0.8714136670138997)]\n"
     ]
    }
   ],
   "source": [
    "#sorting the list in descending order of similarity scores to extract similar movies\n",
    "sorted_similar_movies = sorted(similarity_score, key = lambda x:x[1], reverse = True) \n",
    "print(sorted_similar_movies[1:100])"
   ]
  },
  {
   "cell_type": "code",
   "execution_count": 12,
   "id": "be0b8b12",
   "metadata": {},
   "outputs": [
    {
     "name": "stdout",
     "output_type": "stream",
     "text": [
      "[[  949]\n",
      " [10428]\n",
      " [72031]\n",
      " ...\n",
      " [10326]\n",
      " [35936]\n",
      " [18937]]\n"
     ]
    }
   ],
   "source": [
    "filtered_list = [item for item in sorted_similar_movies if item[1] >= 0.1]\n",
    "final=np.array(filtered_list)\n",
    "final=np.delete(final,1,1)\n",
    "arr= final.astype(int)\n",
    "values_array = movies['id'].values[arr]\n",
    "# title_array=movies['title'].values[arr]\n",
    "print(values_array)"
   ]
  },
  {
   "cell_type": "code",
   "execution_count": 13,
   "id": "0a0ee33c",
   "metadata": {},
   "outputs": [
    {
     "name": "stdout",
     "output_type": "stream",
     "text": [
      "        userId    id  rating   timestamp\n",
      "0            1    31     2.5  1260759144\n",
      "1            1  1029     3.0  1260759179\n",
      "2            1  1061     3.0  1260759182\n",
      "3            1  1129     2.0  1260759185\n",
      "4            1  1172     4.0  1260759205\n",
      "...        ...   ...     ...         ...\n",
      "99999      671  6268     2.5  1065579370\n",
      "100000     671  6269     4.0  1065149201\n",
      "100001     671  6365     4.0  1070940363\n",
      "100002     671  6385     2.5  1070979663\n",
      "100003     671  6565     3.5  1074784724\n",
      "\n",
      "[100004 rows x 4 columns]\n"
     ]
    }
   ],
   "source": [
    "ratings = pd.read_csv('Ratings_mov.csv')\n",
    "ratings.rename(columns={'movieId':'id'},inplace=True)\n",
    "print(ratings)"
   ]
  },
  {
   "cell_type": "code",
   "execution_count": 14,
   "id": "a718c30c",
   "metadata": {},
   "outputs": [
    {
     "name": "stdout",
     "output_type": "stream",
     "text": [
      "       index    id   title  rating  userId\n",
      "0          5   949    Heat     3.5      23\n",
      "1          5   949    Heat     4.0     102\n",
      "2          5   949    Heat     2.0     232\n",
      "3          5   949    Heat     5.0     242\n",
      "5          5   949    Heat     3.0     311\n",
      "...      ...   ...     ...     ...     ...\n",
      "15076   5253  1957  Enough     1.0     564\n",
      "15077   5253  1957  Enough     5.0     575\n",
      "15078   5253  1957  Enough     5.0     577\n",
      "15080   5253  1957  Enough     4.0     605\n",
      "15081   5253  1957  Enough     3.0     608\n",
      "\n",
      "[4795 rows x 5 columns]\n"
     ]
    }
   ],
   "source": [
    "#taking movies that are filtered\n",
    "filtered_values = ratings.loc[np.isin(ratings['id'], values_array), 'id']\n",
    "ratings = ratings[ratings.index.isin(filtered_values.index)]\n",
    "ratings_with_name = movies.merge(ratings,on='id')\n",
    "ratings_with_name=ratings_with_name[['index','id','title','rating','userId']]\n",
    "\n",
    "#finding intelligent users and good movies\n",
    "x = ratings_with_name.groupby('userId').count()['rating'] > 50\n",
    "intelligent_users = x[x].index\n",
    "filtered_rating = ratings_with_name[ratings_with_name['userId'].isin(intelligent_users)]\n",
    "y = filtered_rating.groupby('title').count()['rating']>=10\n",
    "famous_movies = y[y].index\n",
    "ratings_with_name = filtered_rating[filtered_rating['title'].isin(famous_movies)]\n",
    "\n",
    "print(ratings_with_name)"
   ]
  },
  {
   "cell_type": "code",
   "execution_count": 15,
   "id": "528d8e78",
   "metadata": {},
   "outputs": [
    {
     "name": "stdout",
     "output_type": "stream",
     "text": [
      "userId                        15   17   19   23   30   73   86   88   102  \\\n",
      "title                                                                       \n",
      "20,000 Leagues Under the Sea  0.0  0.0  0.0  0.0  0.0  3.0  0.0  0.0  0.0   \n",
      "48 Hrs.                       3.0  0.0  3.0  3.5  5.0  3.5  4.0  4.0  4.0   \n",
      "A Clockwork Orange            2.0  3.0  0.0  3.5  0.0  2.5  0.0  3.0  0.0   \n",
      "A Perfect Murder              0.0  0.0  0.0  0.0  4.0  3.5  0.0  0.0  4.0   \n",
      "A River Runs Through It       5.0  4.0  4.0  4.0  0.0  5.0  0.0  0.0  0.0   \n",
      "...                           ...  ...  ...  ...  ...  ...  ...  ...  ...   \n",
      "Wag the Dog                   2.0  0.0  3.0  3.5  4.0  3.5  1.0  2.5  0.0   \n",
      "Whats Eating Gilbert Grape    0.0  0.0  0.0  0.0  0.0  4.0  0.0  0.0  0.0   \n",
      "While You Were Sleeping       4.5  0.0  0.0  0.0  4.0  0.0  0.0  0.0  4.0   \n",
      "Young and Innocent            1.0  4.5  0.0  4.0  5.0  4.0  0.0  4.0  4.0   \n",
      "eXistenZ                      0.0  0.0  0.0  4.0  0.0  0.0  0.0  0.0  4.0   \n",
      "\n",
      "userId                        105  ...  580  585  587  596  605  607  608  \\\n",
      "title                              ...                                      \n",
      "20,000 Leagues Under the Sea  2.0  ...  2.5  0.0  0.0  0.0  1.0  0.0  0.0   \n",
      "48 Hrs.                       3.0  ...  0.0  0.0  4.5  3.5  4.0  4.0  0.0   \n",
      "A Clockwork Orange            0.0  ...  0.0  0.0  0.0  0.0  0.0  3.0  0.0   \n",
      "A Perfect Murder              4.0  ...  4.0  4.0  0.0  0.0  0.0  0.0  0.0   \n",
      "A River Runs Through It       4.0  ...  3.0  0.0  0.0  4.0  0.0  4.5  3.0   \n",
      "...                           ...  ...  ...  ...  ...  ...  ...  ...  ...   \n",
      "Wag the Dog                   3.0  ...  0.0  0.0  0.0  3.5  4.0  2.0  0.0   \n",
      "Whats Eating Gilbert Grape    0.0  ...  3.5  0.0  0.0  0.0  0.0  0.0  0.0   \n",
      "While You Were Sleeping       0.0  ...  4.0  4.0  4.0  4.0  0.0  0.0  4.0   \n",
      "Young and Innocent            3.5  ...  4.0  0.0  4.0  4.5  0.0  4.0  4.0   \n",
      "eXistenZ                      0.0  ...  0.0  0.0  4.0  0.0  0.0  0.0  0.0   \n",
      "\n",
      "userId                        624  654  665  \n",
      "title                                        \n",
      "20,000 Leagues Under the Sea  0.0  0.0  0.0  \n",
      "48 Hrs.                       3.0  5.0  0.0  \n",
      "A Clockwork Orange            2.5  0.0  0.0  \n",
      "A Perfect Murder              2.0  0.0  0.0  \n",
      "A River Runs Through It       0.0  4.5  0.0  \n",
      "...                           ...  ...  ...  \n",
      "Wag the Dog                   3.0  4.5  3.0  \n",
      "Whats Eating Gilbert Grape    0.0  0.0  0.0  \n",
      "While You Were Sleeping       0.0  0.0  0.0  \n",
      "Young and Innocent            4.0  5.0  0.0  \n",
      "eXistenZ                      0.0  0.0  0.0  \n",
      "\n",
      "[207 rows x 66 columns]\n"
     ]
    }
   ],
   "source": [
    "#matrix factorization\n",
    "pt = ratings_with_name.pivot_table(index='title',columns='userId',values='rating')\n",
    "pt.fillna(0,inplace=True)\n",
    "print(pt)"
   ]
  },
  {
   "cell_type": "code",
   "execution_count": 16,
   "id": "fe74eecb",
   "metadata": {},
   "outputs": [],
   "source": [
    "ratings_with_name.drop_duplicates(['userId','title'],inplace=True)\n",
    "# print(ratings_with_name)"
   ]
  },
  {
   "cell_type": "code",
   "execution_count": 17,
   "id": "d01c344a",
   "metadata": {},
   "outputs": [
    {
     "name": "stdout",
     "output_type": "stream",
     "text": [
      "[[1.         0.41405977 0.46404789 ... 0.12574756 0.45538864 0.        ]\n",
      " [0.41405977 1.         0.55063446 ... 0.47247902 0.70239909 0.36768713]\n",
      " [0.46404789 0.55063446 1.         ... 0.12489763 0.57735827 0.0678586 ]\n",
      " ...\n",
      " [0.12574756 0.47247902 0.12489763 ... 1.         0.53918366 0.48932338]\n",
      " [0.45538864 0.70239909 0.57735827 ... 0.53918366 1.         0.3844915 ]\n",
      " [0.         0.36768713 0.0678586  ... 0.48932338 0.3844915  1.        ]]\n"
     ]
    }
   ],
   "source": [
    "from sklearn.metrics.pairwise import cosine_similarity\n",
    "similarity_scores = cosine_similarity(pt)\n",
    "print(similarity_scores)"
   ]
  },
  {
   "cell_type": "code",
   "execution_count": 18,
   "id": "0e6a5198",
   "metadata": {},
   "outputs": [],
   "source": [
    "indices=np.where(pt.index==close_match)"
   ]
  },
  {
   "cell_type": "code",
   "execution_count": 19,
   "id": "5ee0c65b",
   "metadata": {},
   "outputs": [
    {
     "name": "stdout",
     "output_type": "stream",
     "text": [
      "Movies you may like\n",
      "\n",
      "1 . Hackers\n",
      "2 . The Glass Shield\n",
      "3 . Kiss of Death\n",
      "4 . New York Cop\n",
      "5 . Carlitos Way\n",
      "6 . Killing Zoe\n",
      "7 . Romeo Is Bleeding\n",
      "8 . Original Gangstas\n",
      "\n",
      "People also liked\n",
      "\n",
      "1 . Nell\n",
      "2 . Escape from New York\n",
      "3 . The Bachelor\n",
      "4 . eXistenZ\n",
      "5 . Alien\n",
      "6 . The Big Sleep\n",
      "7 . Enough\n",
      "8 . Star Wars\n"
     ]
    }
   ],
   "source": [
    "print(\"Movies you may like\\n\")\n",
    "j = 1\n",
    "for movie in sorted_similar_movies:\n",
    "    idx = movie[0]\n",
    "\n",
    "    title_from_index = movies[movies.index==idx]['title'].values[0]\n",
    "    if (j<10):\n",
    "        \n",
    "        if(j==1):\n",
    "            j+=1\n",
    "            continue \n",
    "        print(j-1, '.',title_from_index)\n",
    "        j+=1  \n",
    "\n",
    "if len(indices[0]) != 0:\n",
    "    index = indices[0][0]\n",
    "    similarity_score_n = list(enumerate(similarity_scores[index]))\n",
    "    similar_movies = sorted(similarity_score_n, key = lambda x:x[1], reverse = True) \n",
    "    \n",
    "    \n",
    "    i = 1\n",
    "    print(\"\\nPeople also liked\\n\")\n",
    "    for movie in similar_movies:\n",
    "        idx = movie[0]\n",
    "        #   title_from_index = ratings_with_name[ratings_with_name.index==idx]['title'].values[0]\n",
    "        title_from_index = ratings_with_name[ratings_with_name['title'] == pt.index[idx]].values[0][2]\n",
    "        if (i<10):\n",
    "            if(i==1):\n",
    "                i+=1\n",
    "                continue\n",
    "            print(i-1, '.',title_from_index)\n",
    "            i+=1"
   ]
  },
  {
   "cell_type": "code",
   "execution_count": null,
   "id": "d33fded4",
   "metadata": {},
   "outputs": [],
   "source": []
  }
 ],
 "metadata": {
  "kernelspec": {
   "display_name": "Python 3 (ipykernel)",
   "language": "python",
   "name": "python3"
  },
  "language_info": {
   "codemirror_mode": {
    "name": "ipython",
    "version": 3
   },
   "file_extension": ".py",
   "mimetype": "text/x-python",
   "name": "python",
   "nbconvert_exporter": "python",
   "pygments_lexer": "ipython3",
   "version": "3.9.12"
  }
 },
 "nbformat": 4,
 "nbformat_minor": 5
}
